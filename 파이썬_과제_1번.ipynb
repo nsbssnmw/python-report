{
  "nbformat": 4,
  "nbformat_minor": 0,
  "metadata": {
    "colab": {
      "provenance": [],
      "collapsed_sections": [],
      "authorship_tag": "ABX9TyPCRzFFjKrKbuAAb4Wa9ZMJ"
    },
    "kernelspec": {
      "name": "python3",
      "display_name": "Python 3"
    },
    "language_info": {
      "name": "python"
    }
  },
  "cells": [
    {
      "cell_type": "markdown",
      "source": [],
      "metadata": {
        "id": "U0sALgEcYusM"
      }
    },
    {
      "cell_type": "code",
      "execution_count": null,
      "metadata": {
        "colab": {
          "base_uri": "https://localhost:8080/"
        },
        "id": "q8N1qwB4SeIv",
        "outputId": "76754da9-bf52-4427-ac12-d3172f221af4"
      },
      "outputs": [
        {
          "output_type": "stream",
          "name": "stdout",
          "text": [
            "1\n",
            "2\n",
            "3\n"
          ]
        }
      ],
      "source": [
        "### 201804810 황상범\n",
        "a=1\n",
        "b=2\n",
        "\n",
        "print(a)\n",
        "print(b)\n",
        "print(a+b)"
      ]
    }
  ]
}