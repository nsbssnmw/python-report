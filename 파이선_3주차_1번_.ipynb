{
  "nbformat": 4,
  "nbformat_minor": 0,
  "metadata": {
    "colab": {
      "provenance": [],
      "collapsed_sections": [],
      "authorship_tag": "ABX9TyNb2AifeSs8T8nl/mwvl73l",
      "include_colab_link": true
    },
    "kernelspec": {
      "name": "python3",
      "display_name": "Python 3"
    },
    "language_info": {
      "name": "python"
    }
  },
  "cells": [
    {
      "cell_type": "markdown",
      "metadata": {
        "id": "view-in-github",
        "colab_type": "text"
      },
      "source": [
        "<a href=\"https://colab.research.google.com/github/nsbssnmw/python-report/blob/main/%ED%8C%8C%EC%9D%B4%EC%84%A0_3%EC%A3%BC%EC%B0%A8_1%EB%B2%88_.ipynb\" target=\"_parent\"><img src=\"https://colab.research.google.com/assets/colab-badge.svg\" alt=\"Open In Colab\"/></a>"
      ]
    },
    {
      "cell_type": "code",
      "execution_count": null,
      "metadata": {
        "colab": {
          "base_uri": "https://localhost:8080/"
        },
        "id": "HW0Z5j5_ie14",
        "outputId": "96be4501-cf5b-41ad-9f97-fcfa6898185f"
      },
      "outputs": [
        {
          "output_type": "stream",
          "name": "stdout",
          "text": [
            "1 2\n",
            "1 2\n",
            "x는 y의 약수이지만 y가 아니다\n",
            "1\n"
          ]
        }
      ],
      "source": [
        "def f(x, y):\n",
        "  \n",
        "  result = 1\n",
        "  if x == y:\n",
        "      print(\"x와 y는 같은 숫자입니다\")\n",
        "  elif x % y == 0:\n",
        "      print(\"y는 x의 약수이지만 x가 아니다\")\n",
        "  elif y % x == 0:\n",
        "      print(\"x는 y의 약수이지만 y가 아니다\")\n",
        "  else:\n",
        "      print(\"x, y는 서로의 약수가 아니다\")\n",
        "      result = 0\n",
        "  return result\n",
        "\n",
        "x, y = map(int, input().split())\n",
        "print(x, y)\n",
        "result = f(x, y)\n",
        "print(result)"
      ]
    }
  ]
}